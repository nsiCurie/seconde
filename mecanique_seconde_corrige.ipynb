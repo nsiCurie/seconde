{
 "cells": [
  {
   "cell_type": "markdown",
   "metadata": {},
   "source": [
    "# Programmation en Python d'un exercice de physique\n",
    "## Objectif : utilisation d'un langage de programmation pour tracer une trajectoire et des vecteurs vitesses\n",
    "### Le langage utilisé est le langage <u>python</u> qu'on a déjà utilisé lorsque nous avons programmé les cartes avec les micro-contrôleurs."
   ]
  },
  {
   "cell_type": "markdown",
   "metadata": {},
   "source": [
    "## Mode d'emploi\n",
    "### Ce document s'appelle un notebook : il contient tout le TP et est interactif. Il est faudra se placer dans la cellule contenant le programme python (précédée par le mot Entrée[] , compléter le programme puis l'éxécuter depuis le début (en haut) avec le bouton <span style=\"color:red\">Excécuter</span> dans la barre de menu en Haut \n",
    "### Parfois, il y a des lignes à compléter, mais c'est clairement indiqué par du rouge dans le programme§"
   ]
  },
  {
   "cell_type": "markdown",
   "metadata": {},
   "source": [
    "# 1. L'exercice\n",
    "Vous l'avez déjà fait en TP, il s'agit de l'étude du\n",
    "## mouvement d'un palet de curling\n",
    "![photo](palet.jpg)\n",
    "Vous avez fait le pointage de la vidéo avec un logiciel de pointage.\n",
    "Le logiciel pour chaque images enregistre 3 valeurs, la date à laquelle l'image est enregistré depuis le début du film et les coordonnées du point cliqué (compte-tenu de l'échelle indiquée) \n",
    "\n",
    "| date (ms)     |     x(mm)       |   y(mm)    |\n",
    "| ------------- |: -------------: | ---------: |\n",
    "|0|61| 246|\n",
    "|80|70| 250|\n",
    "|160|91| 255|\n",
    "|240|115| 262|\n",
    "|320|145| 267|\n",
    "|400|171| 272|\n",
    "|480|193| 277|\n",
    "|560|217| 280|\n",
    "|640|238| 284|\n",
    "|720|261| 288|\n",
    "|800|282| 292|\n",
    "|880|306| 296|\n",
    "|960|325| 299|\n",
    "|1040|338| 301|\n",
    "|1120|360| 304|\n",
    "|1200|393| 309|\n",
    "|1280|415| 313|\n",
    "|1360|437| 317|\n",
    "|1440|458| 321|\n",
    "|1520|480| 326|\n",
    "|1600|501| 328|\n",
    "|1680|522| 332|\n",
    "\n",
    "## le programme python commence ci dessous\n",
    "### <u>vous devez le compléter au niveau des lignes en rouges</u>\n",
    "<div style=\"color:red;font-size:1.5em\"><p>En saisisssant les valeurs des mesures obtenues en TP dans les listes correspondant aux différentes dates t, aux abscisses x et aux ordonnées y, le logiciel trace la trajectoire.</p><p> C'est comme cela que le programme utilisé dans la <a href=https://curie-vire.pagesperso-orange.fr/snde/tpvideo/ >page du TP</a> a pu faire le tracé de la trajectoire.</p></div>"
   ]
  },
  {
   "cell_type": "code",
   "execution_count": 4,
   "metadata": {},
   "outputs": [
    {
     "data": {
      "image/png": "[encoded data removed]",
      "text/plain": [
       "<Figure size 720x560 with 1 Axes>"
      ]
     },
     "metadata": {
      "needs_background": "light"
     },
     "output_type": "display_data"
    }
   ],
   "source": [
    "#PROGRAMME PYTHON A MODIFIER\n",
    "# on importe la librairie qui permettra de tracer des graphique\n",
    "import matplotlib.pyplot as plt\n",
    "\n",
    "##1. Les positions relevées avec le pointage doivent être entrées\n",
    "##dans le code source ci-dessous.\n",
    "##Exécuter le programme pour représenter la trajectoire y=f(x) du point.\n",
    "\n",
    "\n",
    "\n",
    "##-----Coordonnées des dates où sont acquises les positions du point à compléter-----\n",
    "## entrez sous la forme mesures=[0,80,...,1600, 1680] où chaque mesure est séparée par une virgule et toutes les mesures sont entre crochets\n",
    "'''les dates à compléter en se servant du tableau précédent'''\n",
    "t=[0,80,160,240,320,400,480,560,640,720,800,880,960,1040,1120,1200,1280,1360,1440,1520,1600,1680]\n",
    "'''les abscisses à compléter en se servant du tableau précédent'''\n",
    "x=[61,70,91,115,145,171,193,217,238,261,282,306,325,338,360,393,415,437,458,480,501,522]\n",
    "''' les ordonnées à compléter en se servant du tableau précédent'''\n",
    "y=[246,250,255,262,267,272,277,280,284,288,292,296,299,301,304,309,313,317,321,326,328,332]\n",
    "\n",
    "\n",
    "##2. Mettre le titre de la fenetre (facultatif) : titre du chapitre de cette page\n",
    "##3. Mettre le titre du graphique : nom de l'objet étudié\n",
    "##4. Mettre la légende de l'axe horizontal (x en mm)\n",
    "##5. Mettre la légende de l'axe vertical (y en mm)\n",
    "\n",
    "plt.figure('Trajectoire et Vitesse',figsize=(9,7),dpi=80)\n",
    "plt.title('Mouvement d\\'un palet')                 # titre\n",
    "plt.xlabel('Abscisses du palet en m')  # légende de l'axe des abscisses\n",
    "plt.ylabel('Ordonnées du palet en m')  # légende de l'axe des ordonnées\n",
    "\n",
    "\n",
    "##6. ne pas changer la suite\n",
    "plt.axis('equal')                                               # même échelle sur les axes\n",
    "# Représentation des points de coordonnées (x(t),y(t)),rouge'r',forme'o',\n",
    "# taille 2, reliés entre eux par de fines lignes en pointillés d'épaisseur 0,2 (lw =lineWidth)\n",
    "plt.plot(x,y,'ro--',ms=2,lw=0.2)\n",
    "plt.show()"
   ]
  }
 ],
 "metadata": {
  "kernelspec": {
   "display_name": "Python 3",
   "language": "python",
   "name": "python3"
  },
  "language_info": {
   "codemirror_mode": {
    "name": "ipython",
    "version": 3
   },
   "file_extension": ".py",
   "mimetype": "text/x-python",
   "name": "python",
   "nbconvert_exporter": "python",
   "pygments_lexer": "ipython3",
   "version": "3.7.1"
  }
 },
 "nbformat": 4,
 "nbformat_minor": 2
}
